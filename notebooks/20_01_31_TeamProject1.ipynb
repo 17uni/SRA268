{
  "nbformat": 4,
  "nbformat_minor": 0,
  "metadata": {
    "colab": {
      "name": "20/01/31 TeamProject1.ipynb",
      "provenance": [],
      "collapsed_sections": []
    },
    "kernelspec": {
      "name": "python3",
      "display_name": "Python 3"
    }
  },
  "cells": [
    {
      "cell_type": "markdown",
      "metadata": {
        "id": "Z6LQsJBU1vHd",
        "colab_type": "text"
      },
      "source": [
        "#### Max and Min Temperature\n"
      ]
    },
    {
      "cell_type": "markdown",
      "metadata": {
        "id": "kW6Cbvo82Sys",
        "colab_type": "text"
      },
      "source": [
        "#### Creators\n",
        "\n",
        "\n",
        "*   Robert Bascom\n",
        "*   Xingjian Zhu\n",
        "*   Nick Plakans\n"
      ]
    },
    {
      "cell_type": "markdown",
      "metadata": {
        "id": "cixXSM4I12Yw",
        "colab_type": "text"
      },
      "source": [
        "### Original Project (Lab Assignment 1)"
      ]
    },
    {
      "cell_type": "markdown",
      "metadata": {
        "id": "3Xny9mL615LM",
        "colab_type": "text"
      },
      "source": [
        "According to common sense, the lowest temperature is also relatively high on the days with the high highest temperature in winter, so the absolute temperature difference between the highest temperature and the lowest temperature can be calculated. If this result tends to be stable on a daily basis, then my hypothesis is valid.The purpose of this comparison is to compare the minimum temperatures to the amount of snowfall. The comparison looks at all the days of 2017 where temperatures were freezing (32 degrees fahrenheit) or lower in State College, PA. Days with zero snow fall were included in the data set, as were days where the temperature min was 32 degrees fahrenheit."
      ]
    },
    {
      "cell_type": "markdown",
      "metadata": {
        "id": "CNXuiUqCkZCP",
        "colab_type": "text"
      },
      "source": [
        "![替代文字](https://s2.ax1x.com/2020/02/08/12q9lF.jpg)"
      ]
    },
    {
      "cell_type": "markdown",
      "metadata": {
        "id": "NEQgzUl32GVZ",
        "colab_type": "text"
      },
      "source": [
        "The average of the highest and lowest temperatures has been around a stable estimate, so it's fair to say that the lowest temperatures are higher on days when the highest temperatures are relatively high"
      ]
    },
    {
      "cell_type": "markdown",
      "metadata": {
        "id": "ROM_QFLo2KyH",
        "colab_type": "text"
      },
      "source": [
        "### Team Project 1"
      ]
    },
    {
      "cell_type": "markdown",
      "metadata": {
        "id": "Q5t3T7W-Hki8",
        "colab_type": "text"
      },
      "source": [
        "After a group discussion, it was decided that in the drawing we wanted to describe the temperature difference between the daily maximum temperature and minimum temperature in mid-december 2019, so that we could see whether this winter month in Pennsylvania was consistent with the common sense understanding of the stable temperature in the valley.So we wanted to be able to present a very intuitive comparison of the daily maximum and minimum temperatures, preferably with some appropriate analysis to present the comparison. We chose to show the difference in temperature for a better understanding of what we were trying to showcase."
      ]
    },
    {
      "cell_type": "markdown",
      "metadata": {
        "id": "YBMMWB2oHrRB",
        "colab_type": "text"
      },
      "source": [
        "#### The Good"
      ]
    },
    {
      "cell_type": "markdown",
      "metadata": {
        "id": "ITlYgwM6Ht8K",
        "colab_type": "text"
      },
      "source": [
        "This graph uses the date of January as the horizontal axis and selects the appropriate numerical value and the starting position of the data. Temperature as the vertical axis clearly describes the daily maximum temperature and temperature difference in December 2019, and uses a contrasting polyline to indicate changes. Because of these things the graph is both easy to comprehend and simple in design. We think that because everything on the graph was clear and the key is also clear the reader can quickly look at the graph and get a pretty good understanding of the topic that we landed on."
      ]
    },
    {
      "cell_type": "markdown",
      "metadata": {
        "id": "ypiwWqsc54fB",
        "colab_type": "text"
      },
      "source": [
        "![替代文字](https://i.loli.net/2020/02/08/zJclaUYEb7yV4rq.jpg)"
      ]
    },
    {
      "cell_type": "markdown",
      "metadata": {
        "id": "vZ__tY4XINir",
        "colab_type": "text"
      },
      "source": [
        "#### The Bad"
      ]
    },
    {
      "cell_type": "markdown",
      "metadata": {
        "id": "DszQ1tGVIRQq",
        "colab_type": "text"
      },
      "source": [
        "In this graph, the two sets of data are not compared on the same axis, and there is no way for people who see this picture to link the two data sets. This makes this picture completely useless to intuitively and visually compare the maximum and minimum temperatures in December 2019. To compund on these things there is no key for the reader. Without a key it becomes very hard to understand what a graph is trying to showcase. The reader knows nothing about the circles themselves, what they are referring to, and how the two graphs relate to one another."
      ]
    },
    {
      "cell_type": "markdown",
      "metadata": {
        "id": "mJhEDmJ4qO9W",
        "colab_type": "text"
      },
      "source": [
        "![替代文字](https://s2.ax1x.com/2020/02/08/12qefK.png)"
      ]
    },
    {
      "cell_type": "markdown",
      "metadata": {
        "id": "NnaYvuAIIkPV",
        "colab_type": "text"
      },
      "source": [
        "#### The Ugly"
      ]
    },
    {
      "cell_type": "markdown",
      "metadata": {
        "id": "MjmwGWTlIlOi",
        "colab_type": "text"
      },
      "source": [
        "In this chart, although all the data is correctly expressed, the overall visual effect is very funny, and it is very difficult to observe the trend, because the chart only uses the size to distinguish between different measures in the scatter chart. This graph does infact have a key. The difference here is that the key, and the symbols on the key and graph, are not easily distinguishable from one another. The reader has to spend a significant amount of time trying to comprehend what is in front of them. This graph is pretty funny to look at and because of that, we chose it as our ugly graph."
      ]
    },
    {
      "cell_type": "markdown",
      "metadata": {
        "id": "wl33EtsD9__9",
        "colab_type": "text"
      },
      "source": [
        "<a href=\"https://sm.ms/image/3MnR4UY1xhc5p6q\" target=\"_blank\"><img src=\"https://i.loli.net/2020/02/08/3MnR4UY1xhc5p6q.jpg\" ></a>"
      ]
    }
  ]
}