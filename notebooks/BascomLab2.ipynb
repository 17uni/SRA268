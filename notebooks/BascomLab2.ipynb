{
  "nbformat": 4,
  "nbformat_minor": 0,
  "metadata": {
    "colab": {
      "name": "BascomLab2.ipynb",
      "provenance": []
    },
    "kernelspec": {
      "name": "python3",
      "display_name": "Python 3"
    }
  },
  "cells": [
    {
      "cell_type": "markdown",
      "metadata": {
        "id": "6sOc4Uyr4U-Z",
        "colab_type": "text"
      },
      "source": [
        "## Graph Types"
      ]
    },
    {
      "cell_type": "markdown",
      "metadata": {
        "id": "0zZdVLAd5CYr",
        "colab_type": "text"
      },
      "source": [
        "Creator\n",
        "* Robert Bascom\n",
        "* rwb5590"
      ]
    },
    {
      "cell_type": "markdown",
      "metadata": {
        "id": "g-r6Clq45Hn4",
        "colab_type": "text"
      },
      "source": [
        "### Deviation\n"
      ]
    },
    {
      "cell_type": "markdown",
      "metadata": {
        "id": "2gorxo6E7A0t",
        "colab_type": "text"
      },
      "source": [
        "![alt text](https://raw.githubusercontent.com/17uni/sra268/master/images/lab2-deviation.PNG)"
      ]
    },
    {
      "cell_type": "markdown",
      "metadata": {
        "id": "w6bZ_NEi7E3w",
        "colab_type": "text"
      },
      "source": [
        "#### What is this telling us?"
      ]
    },
    {
      "cell_type": "markdown",
      "metadata": {
        "id": "95L-spaC7QHF",
        "colab_type": "text"
      },
      "source": [
        "The deviation graph shows how far from zero the losing points were, compared to how far from zero the winning points were. The points scored are for individual games and not the sum or average of that year's points. I thought this was a better way to show it because by default Tableau is not the most straightforward and easy thing to manipulate. If I could change a few things I would have changed how much white space is on the graph, gotten rid of the borders, and make it look nicer. I think that these additions would have made the graph better. But again, Tableau is not easy.\n"
      ]
    },
    {
      "cell_type": "markdown",
      "metadata": {
        "id": "YgXyXjmz7cDP",
        "colab_type": "text"
      },
      "source": [
        "### Correlation\n"
      ]
    },
    {
      "cell_type": "markdown",
      "metadata": {
        "id": "SGx15rZq7hvt",
        "colab_type": "text"
      },
      "source": [
        "![alt text](https://raw.githubusercontent.com/17uni/sra268/master/images/lab2-correlation2.PNG)"
      ]
    },
    {
      "cell_type": "markdown",
      "metadata": {
        "id": "dljjONNi7jmj",
        "colab_type": "text"
      },
      "source": [
        "#### What is this telling us?"
      ]
    },
    {
      "cell_type": "markdown",
      "metadata": {
        "id": "PwZEZrFB7laG",
        "colab_type": "text"
      },
      "source": [
        "The correlation graph is mapping out the year and the average loss points per year. I intended this graph to show the correlation between each year. I think the results show that the average loss points are relatively the same throughout the years and that there really are not any outliers in the data set. I would have liked to do a scatter plot but could not for the life of me figure out how to do it. I think this is a result of both myself not understanding variable types well enough but also a result of Tableau and not knowing how to manipulate it well."
      ]
    },
    {
      "cell_type": "markdown",
      "metadata": {
        "id": "MqUdI-uL7r2s",
        "colab_type": "text"
      },
      "source": [
        "### Ranking\n"
      ]
    },
    {
      "cell_type": "markdown",
      "metadata": {
        "id": "AvlxCOVt7x9F",
        "colab_type": "text"
      },
      "source": [
        "![alt text](https://raw.githubusercontent.com/17uni/sra268/master/images/lab2-rank.PNG)"
      ]
    },
    {
      "cell_type": "markdown",
      "metadata": {
        "id": "lCAYtfza7yTq",
        "colab_type": "text"
      },
      "source": [
        "#### What is this telling us?"
      ]
    },
    {
      "cell_type": "markdown",
      "metadata": {
        "id": "MyuciD277ygU",
        "colab_type": "text"
      },
      "source": [
        "This ranking graph shows average loss points per, for each year. It also ranks the columns from one to thirty three. One being the most amount of loss points out of any year, and thirty three being the least amount of loss points out of any year. I wanted to rearrange the bars to show this without numbers but I could not figure out how to do it. I found this method by literal chance and if I had not I probably would have spent hours. If I could change one thing about this graph it would be the ordering of the columns. I feel like not having the numbers would make the graph much easier to understand at a glance."
      ]
    },
    {
      "cell_type": "markdown",
      "metadata": {
        "id": "dGDGl8-G7y8Y",
        "colab_type": "text"
      },
      "source": [
        "### Distribution\n"
      ]
    },
    {
      "cell_type": "markdown",
      "metadata": {
        "id": "FB0uV-jy76p9",
        "colab_type": "text"
      },
      "source": [
        "![alt text](https://raw.githubusercontent.com/17uni/sra268/master/images/lab2-distribution.PNG)"
      ]
    },
    {
      "cell_type": "markdown",
      "metadata": {
        "id": "_6SOzhrQ76zH",
        "colab_type": "text"
      },
      "source": [
        "#### What is this telling us?"
      ]
    },
    {
      "cell_type": "markdown",
      "metadata": {
        "id": "HBWqsS_g767h",
        "colab_type": "text"
      },
      "source": [
        "The distribution graph is mapping out average win points per year. I think this graph was the most straightforward graph I created. It is a simple bar chart that I didn’t do very much to manipulate. I wanted to showcase how little variation there has been in the average winning points scored. Just like the ranking and correlation graphs that mapped average loss points per year. I felt like mixing it up and then decided to stick with this variable for the rest of it. If I could change one thing about this graph I would probably change the color and do some other things to make it cleaner and easier to understand."
      ]
    },
    {
      "cell_type": "markdown",
      "metadata": {
        "id": "wQsDThk677Fy",
        "colab_type": "text"
      },
      "source": [
        "### Change over Time\n"
      ]
    },
    {
      "cell_type": "markdown",
      "metadata": {
        "id": "Z1j_YLOA7_OK",
        "colab_type": "text"
      },
      "source": [
        "![alt text](https://raw.githubusercontent.com/17uni/sra268/master/images/lab2-changeovertime.PNG)"
      ]
    },
    {
      "cell_type": "markdown",
      "metadata": {
        "id": "mpfsmmgi7_Vj",
        "colab_type": "text"
      },
      "source": [
        "#### What is this telling us?"
      ]
    },
    {
      "cell_type": "markdown",
      "metadata": {
        "id": "rYLXoMMO7_di",
        "colab_type": "text"
      },
      "source": [
        "The change over time graph is meant to highlight how the average points to win a game has changed over time. I think that this graph, the line specifically, does a great job of showing the ups and downs from year to year. I found it interesting to see it spike at the beginning then fall a little and bounce back and forth between about seventy and eighty five points. I was expecting a much larger number, with my limited knowledge of basketball. I think if I could add anything to this I would add the average loss points, also as a line. I think this would show a good contrast and provide more meaningful information.\n"
      ]
    },
    {
      "cell_type": "markdown",
      "metadata": {
        "id": "lFwiHoE-7_jZ",
        "colab_type": "text"
      },
      "source": [
        "### Magnitude\n"
      ]
    },
    {
      "cell_type": "markdown",
      "metadata": {
        "id": "ICQFnXj78EbF",
        "colab_type": "text"
      },
      "source": [
        "![alt text](https://raw.githubusercontent.com/17uni/sra268/master/images/lab2-magnitude.PNG)"
      ]
    },
    {
      "cell_type": "markdown",
      "metadata": {
        "id": "QGG7XYG88Eii",
        "colab_type": "text"
      },
      "source": [
        "#### What is this telling us?"
      ]
    },
    {
      "cell_type": "markdown",
      "metadata": {
        "id": "VS7uGa0l8Eos",
        "colab_type": "text"
      },
      "source": [
        "The magnitude graph is the graph I understood least out of this entire assignment. I think my other graphs on this assignment at least have a semblance of what they are supposed to be describing or showcasing. This magnitude graph, I will be honest, probably has nothing to do with what a magnitude graph actually is. I went back through the slides and could not really grasp what types of data I could use to create a good graph. That said this graph showcases the average loss points over time and the average win points over time one on top of another."
      ]
    },
    {
      "cell_type": "markdown",
      "metadata": {
        "id": "bEKFxP8R8Evk",
        "colab_type": "text"
      },
      "source": [
        "### Part-to-Whole\n"
      ]
    },
    {
      "cell_type": "markdown",
      "metadata": {
        "id": "WFHlcYKV8E35",
        "colab_type": "text"
      },
      "source": [
        "![alt text](https://raw.githubusercontent.com/17uni/sra268/master/images/lab2-parttowhole.PNG)"
      ]
    },
    {
      "cell_type": "markdown",
      "metadata": {
        "id": "PNSd3wlp8UZH",
        "colab_type": "text"
      },
      "source": [
        "#### What is this telling us?"
      ]
    },
    {
      "cell_type": "markdown",
      "metadata": {
        "id": "y9tb_QRA8aqt",
        "colab_type": "text"
      },
      "source": [
        "The part to whole graph is showcasing mascot common names and the amount of win points associated with that common name. I think this graph is really cool just because you could actually use it to create a bracket. I think that by understanding which mascot(s) have the most points per win could be a vital advantage. Honestly I want to try to make a bracket with this just to see how well it does. The downside of this graph is that it shows some boxes without labels and adding those would be nice. Overall this is probably my favorite graph of lab two."
      ]
    }
  ]
}