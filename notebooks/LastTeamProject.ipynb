{
  "nbformat": 4,
  "nbformat_minor": 0,
  "metadata": {
    "colab": {
      "name": "LastTeamProject.ipynb",
      "provenance": []
    },
    "kernelspec": {
      "name": "python3",
      "display_name": "Python 3"
    }
  },
  "cells": [
    {
      "cell_type": "markdown",
      "metadata": {
        "id": "Kw5PZBtl0Ob6",
        "colab_type": "text"
      },
      "source": [
        "Expenditure Important and CPI of Food and Energy"
      ]
    },
    {
      "cell_type": "markdown",
      "metadata": {
        "id": "iXWAmSVB0Rno",
        "colab_type": "text"
      },
      "source": [
        "Contributors:\n",
        "\n",
        "\n",
        "*   Robert Bascom\n",
        "*   Xingjian Zhu\n",
        "*   Nick Plakans\n",
        "\n",
        "\n"
      ]
    },
    {
      "cell_type": "markdown",
      "metadata": {
        "id": "WpaW-i5l0ZHn",
        "colab_type": "text"
      },
      "source": [
        "## Background"
      ]
    },
    {
      "cell_type": "markdown",
      "metadata": {
        "id": "E4VKsOvP0eev",
        "colab_type": "text"
      },
      "source": [
        "Our group has chosen to evaluate the price of living for the average family during the Covid-19 pandemic. We chose to do this because we were curious to how the price of food could go up and the cost of energy could go down. This also led us to wonder about cost per family and how it compared to previous years. We figured that by taking the data from the last 4 years would give us enough information to work with, while also keeping the amount to a digestible and relevant size. We mainly decided to go down this route because we were curious about expenses. Seeing as most people our age do not actually have to pay for all of these we thought it might serve as a reminder of all the things that those we depend on do for us. We also thought that it would be really helpful for people to understand where a lot of their expenses are coming from and how they can reduce them. As a group we’ve realized that more and more people are not able to continue to pay their bills on time and this is hurting them. Our group also identified that a lot of people do not completely understand where all of their money is going on a weekly or monthly basis, much less by year. Our hope is that by creating this visualization those who do not have a great understanding of the proportions of their spending will begin to understand, on a relative scale, how much of their income is going to different categories of spending."
      ]
    },
    {
      "cell_type": "markdown",
      "metadata": {
        "id": "7d8vfcGufV0_",
        "colab_type": "text"
      },
      "source": [
        "### Goal"
      ]
    },
    {
      "cell_type": "markdown",
      "metadata": {
        "id": "e1jKSGTjfY2H",
        "colab_type": "text"
      },
      "source": [
        "Our group has decided to use the Consumer Price Index (CPI) to evaluate the cost of living for the average family, in light of the Covid-19 pandemic, for the 2020 calendar year."
      ]
    },
    {
      "cell_type": "markdown",
      "metadata": {
        "id": "GOxy_TvCfi54",
        "colab_type": "text"
      },
      "source": [
        "### Assumptions"
      ]
    },
    {
      "cell_type": "markdown",
      "metadata": {
        "id": "cw1v_1MMfnAR",
        "colab_type": "text"
      },
      "source": [
        "Assumption 1: Housing accounts for the largest share of general American household expenditure\n",
        "\n",
        "Assumption 2: Due to COVID-19, the cost of living must have risen a lot\n",
        "\n",
        "Assumption 3:In the expenditure of American households, family meals should be greater than dining out\n",
        "\n",
        "Assumption 4: Certain expenses must have risen in importance since the beginning of the Covid-19 pandemic.\n",
        "\n",
        "Assumption 5: The cost of oil must be dropping as fuel usage drops.\n",
        "\n",
        "Assumption 6: Transportation should take a hit because less people are using it.\n",
        "\n",
        "Assumption 7: Medical care services should become a more important expenditure.\n",
        "\n",
        "Assumption 8: Energy use will most likely decrease.\n",
        "\n",
        "Assumption 9: Commodities, less food and energy, will increase around the same time stay at home orders are issued.\n",
        "\n",
        "Assumption 10: Not only will housing account for the largest share of general American household expenditures, it will grow as quarantines extend and stay at home orders are enforced.\n",
        "\n",
        "\n"
      ]
    },
    {
      "cell_type": "markdown",
      "metadata": {
        "id": "jKGILpu7gWr6",
        "colab_type": "text"
      },
      "source": [
        "### Data Sources"
      ]
    },
    {
      "cell_type": "markdown",
      "metadata": {
        "id": "uwCao7AtgbNn",
        "colab_type": "text"
      },
      "source": [
        "Our group has chosen to look at data from the U.S. Bureau of Labor Statistics because this source provides the data we needed to make an accurate visualization on the topic. The U.S. Bureau of Labor Statistics publishes data monthly which gives large amounts of information to our group to process. Ultimately we did have to join sources together. We joined them in an excel sheet. The data sources provided 90% of the information we needed (minus the dates of course) so after they were combined the project did not seem that daunting. The hard part of this assignment was manually entering the dates. The dates did not export with the data and because of this had to be entered into the spreadsheet appropriately. They also had to be double checked for accuracy. This proved to be the most time consuming aspect of the project. Once the dates were entered the actual visualization could be created. This also took some time to get correct and to make everything work properly. We wanted to showcase the importance of an expenditure as well as the CPI. We decided to use bubbles with varying sizes to show importance. The larger the bubble, the more important that expenditure is. We also decided to show the CPI as a spaghetti graph. The lines do often intersect with each other, which goes to show the variability of some of the commodities. Finding the right sources was the key to the success of this project as once everything was set into the proper place the project became easier to complete."
      ]
    },
    {
      "cell_type": "markdown",
      "metadata": {
        "id": "kDgSdoQUgg2Z",
        "colab_type": "text"
      },
      "source": [
        "#### Sources"
      ]
    },
    {
      "cell_type": "markdown",
      "metadata": {
        "id": "dFzYIi0Agi2_",
        "colab_type": "text"
      },
      "source": [
        "https://www.bls.gov/cpi/tables/supplemental-files/home.htm\n",
        "\n",
        "https://fred.stlouisfed.org/series/CPIAUCSL\n"
      ]
    },
    {
      "cell_type": "markdown",
      "metadata": {
        "id": "qcFak2v7g3jt",
        "colab_type": "text"
      },
      "source": [
        "## Dashboard (5)"
      ]
    },
    {
      "cell_type": "code",
      "metadata": {
        "id": "knG79vNP0Q0u",
        "colab_type": "code",
        "outputId": "4afd85b8-47b0-47c1-be19-3a5dfae1c97e",
        "colab": {
          "base_uri": "https://localhost:8080/",
          "height": 844
        }
      },
      "source": [
        "import IPython\n",
        "IPython.display.HTML(\"<div class='tableauPlaceholder' id='viz1588026160713' style='position: relative'><noscript><a href='#'><img alt=' ' src='https:&#47;&#47;public.tableau.com&#47;static&#47;images&#47;SR&#47;SRA268Finalproject&#47;1_1&#47;1_rss.png' style='border: none' /></a></noscript><object class='tableauViz'  style='display:none;'><param name='host_url' value='https%3A%2F%2Fpublic.tableau.com%2F' /> <param name='embed_code_version' value='3' /> <param name='site_root' value='' /><param name='name' value='SRA268Finalproject&#47;1_1' /><param name='tabs' value='no' /><param name='toolbar' value='yes' /><param name='static_image' value='https:&#47;&#47;public.tableau.com&#47;static&#47;images&#47;SR&#47;SRA268Finalproject&#47;1_1&#47;1.png' /> <param name='animate_transition' value='yes' /><param name='display_static_image' value='yes' /><param name='display_spinner' value='yes' /><param name='display_overlay' value='yes' /><param name='display_count' value='yes' /></object></div>                <script type='text/javascript'>                    var divElement = document.getElementById('viz1588026160713');                    var vizElement = divElement.getElementsByTagName('object')[0];                    if ( divElement.offsetWidth > 800 ) { vizElement.style.width='1000px';vizElement.style.height='827px';} else if ( divElement.offsetWidth > 500 ) { vizElement.style.width='1000px';vizElement.style.height='827px';} else { vizElement.style.width='100%';vizElement.style.height='827px';}                     var scriptElement = document.createElement('script');                    scriptElement.src = 'https://public.tableau.com/javascripts/api/viz_v1.js';                    vizElement.parentNode.insertBefore(scriptElement, vizElement);                </script>\")"
      ],
      "execution_count": 3,
      "outputs": [
        {
          "output_type": "execute_result",
          "data": {
            "text/html": [
              "<div class='tableauPlaceholder' id='viz1588026160713' style='position: relative'><noscript><a href='#'><img alt=' ' src='https:&#47;&#47;public.tableau.com&#47;static&#47;images&#47;SR&#47;SRA268Finalproject&#47;1_1&#47;1_rss.png' style='border: none' /></a></noscript><object class='tableauViz'  style='display:none;'><param name='host_url' value='https%3A%2F%2Fpublic.tableau.com%2F' /> <param name='embed_code_version' value='3' /> <param name='site_root' value='' /><param name='name' value='SRA268Finalproject&#47;1_1' /><param name='tabs' value='no' /><param name='toolbar' value='yes' /><param name='static_image' value='https:&#47;&#47;public.tableau.com&#47;static&#47;images&#47;SR&#47;SRA268Finalproject&#47;1_1&#47;1.png' /> <param name='animate_transition' value='yes' /><param name='display_static_image' value='yes' /><param name='display_spinner' value='yes' /><param name='display_overlay' value='yes' /><param name='display_count' value='yes' /></object></div>                <script type='text/javascript'>                    var divElement = document.getElementById('viz1588026160713');                    var vizElement = divElement.getElementsByTagName('object')[0];                    if ( divElement.offsetWidth > 800 ) { vizElement.style.width='1000px';vizElement.style.height='827px';} else if ( divElement.offsetWidth > 500 ) { vizElement.style.width='1000px';vizElement.style.height='827px';} else { vizElement.style.width='100%';vizElement.style.height='827px';}                     var scriptElement = document.createElement('script');                    scriptElement.src = 'https://public.tableau.com/javascripts/api/viz_v1.js';                    vizElement.parentNode.insertBefore(scriptElement, vizElement);                </script>"
            ],
            "text/plain": [
              "<IPython.core.display.HTML object>"
            ]
          },
          "metadata": {
            "tags": []
          },
          "execution_count": 3
        }
      ]
    },
    {
      "cell_type": "markdown",
      "metadata": {
        "id": "SvWfnlDjnos1",
        "colab_type": "text"
      },
      "source": [
        "## Conclusion"
      ]
    },
    {
      "cell_type": "markdown",
      "metadata": {
        "id": "rfWefr2gnxOG",
        "colab_type": "text"
      },
      "source": [
        "In conclusion our assumptions-\n",
        "Assumption 1: Housing accounts for the largest share of general American household expenditure, was correct.\n",
        "Assumption 2: Due to COVID-19, the cost of living must have risen a lot, was semi-accurate.\n",
        "Assumption 3:In the expenditure of American households, family meals should be greater than dining out, was incorrect.\n",
        "Assumption 4: Certain expenses must have risen in importance since the beginning of the Covid-19 pandemic, was correct.\n",
        "Assumption 5: The cost of oil must be dropping as fuel usage drops, was correct.\n",
        "Assumption 6: Transportation should take a hit because less people are using it, was incorrect.\n",
        "Assumption 7: Medical care services should become a more important expenditure, was incorrect.\n",
        "Assumption 8: Energy use will most likely decrease, was correct.\n",
        "Assumption 9: Commodities, less food and energy, will increase around the same time stay at home orders are issued, was hard to distinguish.\n",
        "Assumption 10: Not only will housing account for the largest share of general American household expenditures, it will grow as quarantines extend and stay at home orders are enforced, was mostly correct.\n",
        "The results of our assumptions were all over the place, but the general ideas were all about the same. Our expectations of the covid-19 pandemic and the result it has had on the CPI and consumer expenditure patterns were pretty well correlated. We learned a lot about the Covid-19 pandemic from this project. We learned that transportation did in fact that a hit, but it was not nearly as massive of a hit as we were expecting. We were expecting a significant decline, much earlier. But in reality it has only started to decline over the last two months. We were also expecting more of a change from “food at home” but when we saw that it only marginally increased we were very surprised. We were also surprised to see that food away from home had increased at such a steady rate, even considering the pandemic going on around us. Although we already knew that many people choose to continue to spend money on take out we were expecting them to realize that at some point, with no income, they would be blasting through their savings. The massive hit that oil and gas took made complete sense to us. We have seen the gas prices plummet in recent weeks and we assumed that the price of oil dropped to cause it. This is actually one of the things that interested us the most. Seeing as one of our group members is really into cars and driving them. We wanted to see how significant the drop was and what the previous years looked like to see if we could identify any patterns. We learned that from the beginning of 2016 the price of fuel had been increasing, with some occasional drops, up until about 2019. Then it started to drop. And when Covid-19 hit it dropped to about where it started in 2016. This has given us insight into the potential price of fuel in the coming year.\n"
      ]
    },
    {
      "cell_type": "code",
      "metadata": {
        "id": "GiYDwrUYn0k0",
        "colab_type": "code",
        "colab": {}
      },
      "source": [
        ""
      ],
      "execution_count": 0,
      "outputs": []
    }
  ]
}